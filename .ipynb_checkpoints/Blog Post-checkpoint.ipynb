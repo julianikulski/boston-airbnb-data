{
 "cells": [
  {
   "cell_type": "markdown",
   "metadata": {},
   "source": [
    "# Here is what you need to know about staying in Boston\n",
    "\n",
    "Questions:\n",
    "* What high-rent times of the year should you avoid\n",
    "* Which neighborhoods have the cleanest flats\n",
    "* \n",
    "\n"
   ]
  },
  {
   "cell_type": "code",
   "execution_count": 1,
   "metadata": {},
   "outputs": [],
   "source": [
    "import numpy as np\n",
    "import pandas as pd\n",
    "import matplotlib.pyplot as plt\n",
    "\n",
    "%matplotlib inline\n"
   ]
  },
  {
   "cell_type": "code",
   "execution_count": 30,
   "metadata": {},
   "outputs": [],
   "source": [
    "calendar2017 = pd.read_csv('calendar2017.csv', delimiter=',')\n",
    "calendar2018 = pd.read_csv('calendar2018.csv', delimiter=',')\n",
    "calendar2019 = pd.read_csv('calendar2019.csv', delimiter=',')\n",
    "\n",
    "calendar052018 = pd.read_csv('calendar_up0518_rg04180419.csv', delimiter=',')\n",
    "calendar042018 = pd.read_csv('calendar_up0418_rg04180519.csv', delimiter=',')\n",
    "listings = pd.read_csv('listings.csv', delimiter=',')\n",
    "reviews = pd.read_csv('reviews.csv', delimiter=',')\n"
   ]
  },
  {
   "cell_type": "code",
   "execution_count": 4,
   "metadata": {},
   "outputs": [
    {
     "name": "stdout",
     "output_type": "stream",
     "text": [
      "(1308890, 4)\n",
      "(3585, 95)\n",
      "(68275, 6)\n"
     ]
    }
   ],
   "source": [
    "print(calendar2017.shape)\n",
    "print(listings.shape)\n",
    "print(reviews.shape)\n"
   ]
  },
  {
   "cell_type": "code",
   "execution_count": 7,
   "metadata": {},
   "outputs": [
    {
     "name": "stdout",
     "output_type": "stream",
     "text": [
      "listing_id         0\n",
      "date               0\n",
      "available          0\n",
      "price         665853\n",
      "dtype: int64\n",
      "Portion of missing values in price column: 0.5087157820748879\n"
     ]
    }
   ],
   "source": [
    "# check out the missing values from \n",
    "print(np.sum(calendar2017.isnull()))\n",
    "\n",
    "print('Portion of missing values in price column: {}'.format(calendar2017[\"price\"].isnull().sum()/calendar2017.shape[0]))\n"
   ]
  },
  {
   "cell_type": "code",
   "execution_count": 8,
   "metadata": {},
   "outputs": [
    {
     "data": {
      "text/html": [
       "<div>\n",
       "<style scoped>\n",
       "    .dataframe tbody tr th:only-of-type {\n",
       "        vertical-align: middle;\n",
       "    }\n",
       "\n",
       "    .dataframe tbody tr th {\n",
       "        vertical-align: top;\n",
       "    }\n",
       "\n",
       "    .dataframe thead th {\n",
       "        text-align: right;\n",
       "    }\n",
       "</style>\n",
       "<table border=\"1\" class=\"dataframe\">\n",
       "  <thead>\n",
       "    <tr style=\"text-align: right;\">\n",
       "      <th></th>\n",
       "      <th>listing_id</th>\n",
       "      <th>date</th>\n",
       "      <th>available</th>\n",
       "      <th>price</th>\n",
       "    </tr>\n",
       "  </thead>\n",
       "  <tbody>\n",
       "    <tr>\n",
       "      <th>0</th>\n",
       "      <td>12147973</td>\n",
       "      <td>2017-09-05</td>\n",
       "      <td>f</td>\n",
       "      <td>NaN</td>\n",
       "    </tr>\n",
       "    <tr>\n",
       "      <th>1</th>\n",
       "      <td>12147973</td>\n",
       "      <td>2017-09-04</td>\n",
       "      <td>f</td>\n",
       "      <td>NaN</td>\n",
       "    </tr>\n",
       "    <tr>\n",
       "      <th>2</th>\n",
       "      <td>12147973</td>\n",
       "      <td>2017-09-03</td>\n",
       "      <td>f</td>\n",
       "      <td>NaN</td>\n",
       "    </tr>\n",
       "    <tr>\n",
       "      <th>3</th>\n",
       "      <td>12147973</td>\n",
       "      <td>2017-09-02</td>\n",
       "      <td>f</td>\n",
       "      <td>NaN</td>\n",
       "    </tr>\n",
       "    <tr>\n",
       "      <th>4</th>\n",
       "      <td>12147973</td>\n",
       "      <td>2017-09-01</td>\n",
       "      <td>f</td>\n",
       "      <td>NaN</td>\n",
       "    </tr>\n",
       "  </tbody>\n",
       "</table>\n",
       "</div>"
      ],
      "text/plain": [
       "   listing_id        date available price\n",
       "0    12147973  2017-09-05         f   NaN\n",
       "1    12147973  2017-09-04         f   NaN\n",
       "2    12147973  2017-09-03         f   NaN\n",
       "3    12147973  2017-09-02         f   NaN\n",
       "4    12147973  2017-09-01         f   NaN"
      ]
     },
     "execution_count": 8,
     "metadata": {},
     "output_type": "execute_result"
    }
   ],
   "source": [
    "calendar2017.head()"
   ]
  },
  {
   "cell_type": "code",
   "execution_count": 9,
   "metadata": {},
   "outputs": [
    {
     "data": {
      "text/html": [
       "<div>\n",
       "<style scoped>\n",
       "    .dataframe tbody tr th:only-of-type {\n",
       "        vertical-align: middle;\n",
       "    }\n",
       "\n",
       "    .dataframe tbody tr th {\n",
       "        vertical-align: top;\n",
       "    }\n",
       "\n",
       "    .dataframe thead th {\n",
       "        text-align: right;\n",
       "    }\n",
       "</style>\n",
       "<table border=\"1\" class=\"dataframe\">\n",
       "  <thead>\n",
       "    <tr style=\"text-align: right;\">\n",
       "      <th></th>\n",
       "      <th>id</th>\n",
       "      <th>listing_url</th>\n",
       "      <th>scrape_id</th>\n",
       "      <th>last_scraped</th>\n",
       "      <th>name</th>\n",
       "      <th>summary</th>\n",
       "      <th>space</th>\n",
       "      <th>description</th>\n",
       "      <th>experiences_offered</th>\n",
       "      <th>neighborhood_overview</th>\n",
       "      <th>...</th>\n",
       "      <th>review_scores_value</th>\n",
       "      <th>requires_license</th>\n",
       "      <th>license</th>\n",
       "      <th>jurisdiction_names</th>\n",
       "      <th>instant_bookable</th>\n",
       "      <th>cancellation_policy</th>\n",
       "      <th>require_guest_profile_picture</th>\n",
       "      <th>require_guest_phone_verification</th>\n",
       "      <th>calculated_host_listings_count</th>\n",
       "      <th>reviews_per_month</th>\n",
       "    </tr>\n",
       "  </thead>\n",
       "  <tbody>\n",
       "    <tr>\n",
       "      <th>0</th>\n",
       "      <td>12147973</td>\n",
       "      <td>https://www.airbnb.com/rooms/12147973</td>\n",
       "      <td>20160906204935</td>\n",
       "      <td>2016-09-07</td>\n",
       "      <td>Sunny Bungalow in the City</td>\n",
       "      <td>Cozy, sunny, family home.  Master bedroom high...</td>\n",
       "      <td>The house has an open and cozy feel at the sam...</td>\n",
       "      <td>Cozy, sunny, family home.  Master bedroom high...</td>\n",
       "      <td>none</td>\n",
       "      <td>Roslindale is quiet, convenient and friendly. ...</td>\n",
       "      <td>...</td>\n",
       "      <td>NaN</td>\n",
       "      <td>f</td>\n",
       "      <td>NaN</td>\n",
       "      <td>NaN</td>\n",
       "      <td>f</td>\n",
       "      <td>moderate</td>\n",
       "      <td>f</td>\n",
       "      <td>f</td>\n",
       "      <td>1</td>\n",
       "      <td>NaN</td>\n",
       "    </tr>\n",
       "    <tr>\n",
       "      <th>1</th>\n",
       "      <td>3075044</td>\n",
       "      <td>https://www.airbnb.com/rooms/3075044</td>\n",
       "      <td>20160906204935</td>\n",
       "      <td>2016-09-07</td>\n",
       "      <td>Charming room in pet friendly apt</td>\n",
       "      <td>Charming and quiet room in a second floor 1910...</td>\n",
       "      <td>Small but cozy and quite room with a full size...</td>\n",
       "      <td>Charming and quiet room in a second floor 1910...</td>\n",
       "      <td>none</td>\n",
       "      <td>The room is in Roslindale, a diverse and prima...</td>\n",
       "      <td>...</td>\n",
       "      <td>9.0</td>\n",
       "      <td>f</td>\n",
       "      <td>NaN</td>\n",
       "      <td>NaN</td>\n",
       "      <td>t</td>\n",
       "      <td>moderate</td>\n",
       "      <td>f</td>\n",
       "      <td>f</td>\n",
       "      <td>1</td>\n",
       "      <td>1.30</td>\n",
       "    </tr>\n",
       "    <tr>\n",
       "      <th>2</th>\n",
       "      <td>6976</td>\n",
       "      <td>https://www.airbnb.com/rooms/6976</td>\n",
       "      <td>20160906204935</td>\n",
       "      <td>2016-09-07</td>\n",
       "      <td>Mexican Folk Art Haven in Boston</td>\n",
       "      <td>Come stay with a friendly, middle-aged guy in ...</td>\n",
       "      <td>Come stay with a friendly, middle-aged guy in ...</td>\n",
       "      <td>Come stay with a friendly, middle-aged guy in ...</td>\n",
       "      <td>none</td>\n",
       "      <td>The LOCATION: Roslindale is a safe and diverse...</td>\n",
       "      <td>...</td>\n",
       "      <td>10.0</td>\n",
       "      <td>f</td>\n",
       "      <td>NaN</td>\n",
       "      <td>NaN</td>\n",
       "      <td>f</td>\n",
       "      <td>moderate</td>\n",
       "      <td>t</td>\n",
       "      <td>f</td>\n",
       "      <td>1</td>\n",
       "      <td>0.47</td>\n",
       "    </tr>\n",
       "    <tr>\n",
       "      <th>3</th>\n",
       "      <td>1436513</td>\n",
       "      <td>https://www.airbnb.com/rooms/1436513</td>\n",
       "      <td>20160906204935</td>\n",
       "      <td>2016-09-07</td>\n",
       "      <td>Spacious Sunny Bedroom Suite in Historic Home</td>\n",
       "      <td>Come experience the comforts of home away from...</td>\n",
       "      <td>Most places you find in Boston are small howev...</td>\n",
       "      <td>Come experience the comforts of home away from...</td>\n",
       "      <td>none</td>\n",
       "      <td>Roslindale is a lovely little neighborhood loc...</td>\n",
       "      <td>...</td>\n",
       "      <td>10.0</td>\n",
       "      <td>f</td>\n",
       "      <td>NaN</td>\n",
       "      <td>NaN</td>\n",
       "      <td>f</td>\n",
       "      <td>moderate</td>\n",
       "      <td>f</td>\n",
       "      <td>f</td>\n",
       "      <td>1</td>\n",
       "      <td>1.00</td>\n",
       "    </tr>\n",
       "    <tr>\n",
       "      <th>4</th>\n",
       "      <td>7651065</td>\n",
       "      <td>https://www.airbnb.com/rooms/7651065</td>\n",
       "      <td>20160906204935</td>\n",
       "      <td>2016-09-07</td>\n",
       "      <td>Come Home to Boston</td>\n",
       "      <td>My comfy, clean and relaxing home is one block...</td>\n",
       "      <td>Clean, attractive, private room, one block fro...</td>\n",
       "      <td>My comfy, clean and relaxing home is one block...</td>\n",
       "      <td>none</td>\n",
       "      <td>I love the proximity to downtown, the neighbor...</td>\n",
       "      <td>...</td>\n",
       "      <td>10.0</td>\n",
       "      <td>f</td>\n",
       "      <td>NaN</td>\n",
       "      <td>NaN</td>\n",
       "      <td>f</td>\n",
       "      <td>flexible</td>\n",
       "      <td>f</td>\n",
       "      <td>f</td>\n",
       "      <td>1</td>\n",
       "      <td>2.25</td>\n",
       "    </tr>\n",
       "  </tbody>\n",
       "</table>\n",
       "<p>5 rows × 95 columns</p>\n",
       "</div>"
      ],
      "text/plain": [
       "         id                            listing_url       scrape_id  \\\n",
       "0  12147973  https://www.airbnb.com/rooms/12147973  20160906204935   \n",
       "1   3075044   https://www.airbnb.com/rooms/3075044  20160906204935   \n",
       "2      6976      https://www.airbnb.com/rooms/6976  20160906204935   \n",
       "3   1436513   https://www.airbnb.com/rooms/1436513  20160906204935   \n",
       "4   7651065   https://www.airbnb.com/rooms/7651065  20160906204935   \n",
       "\n",
       "  last_scraped                                           name  \\\n",
       "0   2016-09-07                     Sunny Bungalow in the City   \n",
       "1   2016-09-07              Charming room in pet friendly apt   \n",
       "2   2016-09-07               Mexican Folk Art Haven in Boston   \n",
       "3   2016-09-07  Spacious Sunny Bedroom Suite in Historic Home   \n",
       "4   2016-09-07                            Come Home to Boston   \n",
       "\n",
       "                                             summary  \\\n",
       "0  Cozy, sunny, family home.  Master bedroom high...   \n",
       "1  Charming and quiet room in a second floor 1910...   \n",
       "2  Come stay with a friendly, middle-aged guy in ...   \n",
       "3  Come experience the comforts of home away from...   \n",
       "4  My comfy, clean and relaxing home is one block...   \n",
       "\n",
       "                                               space  \\\n",
       "0  The house has an open and cozy feel at the sam...   \n",
       "1  Small but cozy and quite room with a full size...   \n",
       "2  Come stay with a friendly, middle-aged guy in ...   \n",
       "3  Most places you find in Boston are small howev...   \n",
       "4  Clean, attractive, private room, one block fro...   \n",
       "\n",
       "                                         description experiences_offered  \\\n",
       "0  Cozy, sunny, family home.  Master bedroom high...                none   \n",
       "1  Charming and quiet room in a second floor 1910...                none   \n",
       "2  Come stay with a friendly, middle-aged guy in ...                none   \n",
       "3  Come experience the comforts of home away from...                none   \n",
       "4  My comfy, clean and relaxing home is one block...                none   \n",
       "\n",
       "                               neighborhood_overview        ...          \\\n",
       "0  Roslindale is quiet, convenient and friendly. ...        ...           \n",
       "1  The room is in Roslindale, a diverse and prima...        ...           \n",
       "2  The LOCATION: Roslindale is a safe and diverse...        ...           \n",
       "3  Roslindale is a lovely little neighborhood loc...        ...           \n",
       "4  I love the proximity to downtown, the neighbor...        ...           \n",
       "\n",
       "  review_scores_value requires_license license jurisdiction_names  \\\n",
       "0                 NaN                f     NaN                NaN   \n",
       "1                 9.0                f     NaN                NaN   \n",
       "2                10.0                f     NaN                NaN   \n",
       "3                10.0                f     NaN                NaN   \n",
       "4                10.0                f     NaN                NaN   \n",
       "\n",
       "  instant_bookable cancellation_policy require_guest_profile_picture  \\\n",
       "0                f            moderate                             f   \n",
       "1                t            moderate                             f   \n",
       "2                f            moderate                             t   \n",
       "3                f            moderate                             f   \n",
       "4                f            flexible                             f   \n",
       "\n",
       "  require_guest_phone_verification calculated_host_listings_count  \\\n",
       "0                                f                              1   \n",
       "1                                f                              1   \n",
       "2                                f                              1   \n",
       "3                                f                              1   \n",
       "4                                f                              1   \n",
       "\n",
       "   reviews_per_month  \n",
       "0                NaN  \n",
       "1               1.30  \n",
       "2               0.47  \n",
       "3               1.00  \n",
       "4               2.25  \n",
       "\n",
       "[5 rows x 95 columns]"
      ]
     },
     "execution_count": 9,
     "metadata": {},
     "output_type": "execute_result"
    }
   ],
   "source": [
    "listings.head()"
   ]
  },
  {
   "cell_type": "code",
   "execution_count": 10,
   "metadata": {},
   "outputs": [
    {
     "data": {
      "text/html": [
       "<div>\n",
       "<style scoped>\n",
       "    .dataframe tbody tr th:only-of-type {\n",
       "        vertical-align: middle;\n",
       "    }\n",
       "\n",
       "    .dataframe tbody tr th {\n",
       "        vertical-align: top;\n",
       "    }\n",
       "\n",
       "    .dataframe thead th {\n",
       "        text-align: right;\n",
       "    }\n",
       "</style>\n",
       "<table border=\"1\" class=\"dataframe\">\n",
       "  <thead>\n",
       "    <tr style=\"text-align: right;\">\n",
       "      <th></th>\n",
       "      <th>listing_id</th>\n",
       "      <th>date</th>\n",
       "      <th>available</th>\n",
       "      <th>price</th>\n",
       "    </tr>\n",
       "  </thead>\n",
       "  <tbody>\n",
       "    <tr>\n",
       "      <th>0</th>\n",
       "      <td>12147973</td>\n",
       "      <td>2017-09-05</td>\n",
       "      <td>f</td>\n",
       "      <td>NaN</td>\n",
       "    </tr>\n",
       "    <tr>\n",
       "      <th>1</th>\n",
       "      <td>12147973</td>\n",
       "      <td>2017-09-04</td>\n",
       "      <td>f</td>\n",
       "      <td>NaN</td>\n",
       "    </tr>\n",
       "    <tr>\n",
       "      <th>2</th>\n",
       "      <td>12147973</td>\n",
       "      <td>2017-09-03</td>\n",
       "      <td>f</td>\n",
       "      <td>NaN</td>\n",
       "    </tr>\n",
       "    <tr>\n",
       "      <th>3</th>\n",
       "      <td>12147973</td>\n",
       "      <td>2017-09-02</td>\n",
       "      <td>f</td>\n",
       "      <td>NaN</td>\n",
       "    </tr>\n",
       "    <tr>\n",
       "      <th>4</th>\n",
       "      <td>12147973</td>\n",
       "      <td>2017-09-01</td>\n",
       "      <td>f</td>\n",
       "      <td>NaN</td>\n",
       "    </tr>\n",
       "  </tbody>\n",
       "</table>\n",
       "</div>"
      ],
      "text/plain": [
       "   listing_id        date available  price\n",
       "0    12147973  2017-09-05         f    NaN\n",
       "1    12147973  2017-09-04         f    NaN\n",
       "2    12147973  2017-09-03         f    NaN\n",
       "3    12147973  2017-09-02         f    NaN\n",
       "4    12147973  2017-09-01         f    NaN"
      ]
     },
     "execution_count": 10,
     "metadata": {},
     "output_type": "execute_result"
    }
   ],
   "source": [
    "# clean the price column to allow for arithmetic operations\n",
    "conv_str = lambda x: str(x)[1:].replace(',', '') if '$' in str(x) else x\n",
    "\n",
    "calendar2017['price'] = calendar2017['price'].apply(conv_str)\n",
    "calendar2017['price'] = calendar2017['price'].apply(lambda x: float(x))\n",
    "calendar2017.head()\n"
   ]
  },
  {
   "cell_type": "code",
   "execution_count": 11,
   "metadata": {},
   "outputs": [
    {
     "data": {
      "text/plain": [
       "count    2906.000000\n",
       "mean      196.935127\n",
       "std       157.729807\n",
       "min        11.000000\n",
       "25%        90.000000\n",
       "50%       160.000000\n",
       "75%       264.717664\n",
       "max      4000.000000\n",
       "Name: price, dtype: float64"
      ]
     },
     "execution_count": 11,
     "metadata": {},
     "output_type": "execute_result"
    }
   ],
   "source": [
    "# get the descriptive statistics of average price per listing\n",
    "grouped_price = calendar2017.groupby('listing_id')['price'].mean()\n",
    "\n",
    "grouped_price.describe()\n"
   ]
  },
  {
   "cell_type": "code",
   "execution_count": 12,
   "metadata": {},
   "outputs": [
    {
     "name": "stderr",
     "output_type": "stream",
     "text": [
      "C:\\Users\\julia\\Anaconda3\\lib\\site-packages\\numpy\\lib\\histograms.py:754: RuntimeWarning: invalid value encountered in greater_equal\n",
      "  keep = (tmp_a >= first_edge)\n",
      "C:\\Users\\julia\\Anaconda3\\lib\\site-packages\\numpy\\lib\\histograms.py:755: RuntimeWarning: invalid value encountered in less_equal\n",
      "  keep &= (tmp_a <= last_edge)\n"
     ]
    },
    {
     "data": {
      "image/png": "[encoded data removed]",
      "text/plain": [
       "<Figure size 1080x432 with 1 Axes>"
      ]
     },
     "metadata": {
      "needs_background": "light"
     },
     "output_type": "display_data"
    }
   ],
   "source": [
    "# plot the average prices across all listing ids\n",
    "plt.figure(figsize=(15,6))\n",
    "plt.hist(grouped_price, bins=100);\n"
   ]
  },
  {
   "cell_type": "code",
   "execution_count": 13,
   "metadata": {},
   "outputs": [
    {
     "data": {
      "text/plain": [
       "count    365.000000\n",
       "mean     201.165200\n",
       "std       20.989130\n",
       "min      177.023002\n",
       "25%      186.764936\n",
       "50%      196.100469\n",
       "75%      205.207474\n",
       "max      286.921977\n",
       "Name: price, dtype: float64"
      ]
     },
     "execution_count": 13,
     "metadata": {},
     "output_type": "execute_result"
    }
   ],
   "source": [
    "# average price throughout time\n",
    "grouped_date = calendar2017.groupby('date')['price'].mean()\n",
    "\n",
    "grouped_date.describe()\n"
   ]
  },
  {
   "cell_type": "code",
   "execution_count": 14,
   "metadata": {},
   "outputs": [
    {
     "data": {
      "text/plain": [
       "date\n",
       "2016-09-06    241.043860\n",
       "2016-09-07    251.833691\n",
       "2016-09-08    251.748749\n",
       "2016-09-09    261.859327\n",
       "2016-09-10    266.847280\n",
       "2016-09-11    249.565041\n",
       "2016-09-12    245.732597\n",
       "2016-09-13    250.206977\n",
       "2016-09-14    256.647799\n",
       "2016-09-15    269.092903\n",
       "2016-09-16    286.921977\n",
       "2016-09-17    286.185554\n",
       "2016-09-18    261.592955\n",
       "2016-09-19    246.632945\n",
       "2016-09-20    241.203993\n",
       "2016-09-21    244.225750\n",
       "2016-09-22    249.625355\n",
       "2016-09-23    250.712274\n",
       "2016-09-24    259.378705\n",
       "2016-09-25    256.321691\n",
       "2016-09-26    244.979556\n",
       "2016-09-27    245.324846\n",
       "2016-09-28    234.278376\n",
       "2016-09-29    243.275229\n",
       "2016-09-30    246.097490\n",
       "2016-10-01    245.459259\n",
       "2016-10-02    236.312305\n",
       "2016-10-03    230.048227\n",
       "2016-10-04    228.680249\n",
       "2016-10-05    229.066098\n",
       "                 ...    \n",
       "2017-08-07    200.423529\n",
       "2017-08-08    200.494684\n",
       "2017-08-09    201.649692\n",
       "2017-08-10    201.793509\n",
       "2017-08-11    208.539665\n",
       "2017-08-12    204.606484\n",
       "2017-08-13    199.385818\n",
       "2017-08-14    196.306145\n",
       "2017-08-15    197.558906\n",
       "2017-08-16    198.872138\n",
       "2017-08-17    205.207474\n",
       "2017-08-18    209.418708\n",
       "2017-08-19    209.739009\n",
       "2017-08-20    205.332962\n",
       "2017-08-21    203.910963\n",
       "2017-08-22    204.514730\n",
       "2017-08-23    203.418101\n",
       "2017-08-24    205.480289\n",
       "2017-08-25    207.857301\n",
       "2017-08-26    212.498612\n",
       "2017-08-27    203.397550\n",
       "2017-08-28    200.863991\n",
       "2017-08-29    198.023942\n",
       "2017-08-30    193.548747\n",
       "2017-08-31    200.543684\n",
       "2017-09-01    202.046797\n",
       "2017-09-02    197.997775\n",
       "2017-09-03    192.566038\n",
       "2017-09-04    189.907829\n",
       "2017-09-05    190.804553\n",
       "Name: price, Length: 365, dtype: float64"
      ]
     },
     "execution_count": 14,
     "metadata": {},
     "output_type": "execute_result"
    }
   ],
   "source": [
    "grouped_date"
   ]
  },
  {
   "cell_type": "code",
   "execution_count": 40,
   "metadata": {},
   "outputs": [
    {
     "data": {
      "image/png": "[encoded data removed]",
      "text/plain": [
       "<Figure size 1080x432 with 1 Axes>"
      ]
     },
     "metadata": {
      "needs_background": "light"
     },
     "output_type": "display_data"
    }
   ],
   "source": [
    "# plot the average prices across all dates\n",
    "index_date = [np.datetime64(x) for x in grouped_date.index]\n",
    "\n",
    "fig, ax = plt.subplots(figsize=(15,6))\n",
    "\n",
    "plt.scatter(index_date, grouped_date.values)\n",
    "plt.xlabel('Date')\n",
    "plt.ylabel('Average Price')\n",
    "ax.set_ylim([100,500])\n",
    "plt.title('Average price on date throughout 2016/2017')\n",
    "plt.xticks(rotation=30);\n"
   ]
  },
  {
   "cell_type": "code",
   "execution_count": 48,
   "metadata": {},
   "outputs": [],
   "source": [
    "# cleaning function for the calendar file\n",
    "def clean(df):\n",
    "    '''\n",
    "    cleaning the price data for the calendar files\n",
    "    INPUT: dataframe\n",
    "    OUTPUT: Series with average price throughout time; Series with dates in np.datetime64 format\n",
    "    '''\n",
    "    # cleaning price column\n",
    "    conv_str = lambda x: str(x)[1:].replace(',', '') if '$' in str(x) else x\n",
    "    df['price'] = df['price'].apply(conv_str)\n",
    "    df['price'] = df['price'].apply(lambda x: float(x))\n",
    "    \n",
    "    # average price throughout time\n",
    "    grouped_date = df.groupby('date')['price'].mean()\n",
    "    \n",
    "    # convert time to np.datetime64\n",
    "    index_date = [np.datetime64(x) for x in grouped_date.index]\n",
    "\n",
    "    return index_date, grouped_date\n",
    "    "
   ]
  },
  {
   "cell_type": "code",
   "execution_count": 58,
   "metadata": {},
   "outputs": [],
   "source": [
    "# cleaning function for the calendar file\n",
    "def clean(df):\n",
    "    '''\n",
    "    cleaning the price data for the calendar files\n",
    "    INPUT: dataframe\n",
    "    OUTPUT: Series with average price throughout time; Series with dates in np.datetime64 format\n",
    "    '''\n",
    "    # cleaning price column\n",
    "    conv_str = lambda x: str(x)[1:].replace(',', '') if '$' in str(x) else x\n",
    "    df['price'] = df['price'].apply(conv_str)\n",
    "    df['price'] = df['price'].apply(lambda x: float(x))\n",
    "    \n",
    "    # average price throughout time\n",
    "    grouped_date = df.groupby('date')['price'].mean()\n",
    "    \n",
    "    # convert time to np.datetime64\n",
    "    index_date = [x[5:] for x in grouped_date.index]\n",
    "\n",
    "    return index_date, grouped_date"
   ]
  },
  {
   "cell_type": "code",
   "execution_count": 56,
   "metadata": {},
   "outputs": [],
   "source": [
    "# plotting the price data of relevant calendar dataframes\n",
    "def plot_cal(x_lst, y_lst, year_lst, color_lst):\n",
    "    '''\n",
    "    INPUT: index_date is x_lst, grouped_date is y_lst\n",
    "    OUTPUT: scatterplot of all average prices of calendar dataframes over time\n",
    "    '''\n",
    "    # plot data\n",
    "    fig, ax = plt.subplots(figsize=(15,6))\n",
    "    \n",
    "    for i in range(len(x_lst)):\n",
    "        ax.scatter(x_lst[i], y_lst[i].values, c=color_lst[i], label=year_lst[i])\n",
    "    \n",
    "    plt.xlabel('Date')\n",
    "    plt.ylabel('Average Price')\n",
    "    ax.set_ylim([100,500])\n",
    "    plt.legend(loc='upper left')\n",
    "    plt.title('Average price on dates')\n",
    "    plt.xticks(rotation=30);\n"
   ]
  },
  {
   "cell_type": "code",
   "execution_count": 59,
   "metadata": {},
   "outputs": [],
   "source": [
    "# clean all calendar price columns\n",
    "X2017, y2017 = clean(calendar2017)\n",
    "X2018, y2018 = clean(calendar2018)\n",
    "X2019, y2019 = clean(calendar2019)\n"
   ]
  },
  {
   "cell_type": "code",
   "execution_count": 67,
   "metadata": {},
   "outputs": [],
   "source": [
    "from datetime import datetime\n",
    "\n",
    "#X2017 = [datetime.strptime(x, '%m-%d') for x in X2017]\n",
    "X2018 = [datetime.strptime(x, '%m-%d') for x in X2018]\n",
    "X2019 = [datetime.strptime(x, '%m-%d') for x in X2019]"
   ]
  },
  {
   "cell_type": "code",
   "execution_count": 68,
   "metadata": {},
   "outputs": [],
   "source": [
    "# creating input lists for plot function\n",
    "x_lst = [X2017, X2018, X2019]\n",
    "y_lst = [y2017, y2018, y2019]\n",
    "year_lst = ['2017', '2018', '2019']\n",
    "color_lst = ['b', 'r', 'g']\n"
   ]
  },
  {
   "cell_type": "code",
   "execution_count": 69,
   "metadata": {},
   "outputs": [
    {
     "data": {
      "image/png": "[encoded data removed]",
      "text/plain": [
       "<Figure size 1080x432 with 1 Axes>"
      ]
     },
     "metadata": {
      "needs_background": "light"
     },
     "output_type": "display_data"
    }
   ],
   "source": [
    "# plotting all three calendars' average prices\n",
    "plot_cal(x_lst, y_lst, year_lst, color_lst)\n"
   ]
  },
  {
   "cell_type": "code",
   "execution_count": 16,
   "metadata": {},
   "outputs": [
    {
     "data": {
      "text/plain": [
       "count     365.0\n",
       "mean     3586.0\n",
       "std         0.0\n",
       "min      3586.0\n",
       "25%      3586.0\n",
       "50%      3586.0\n",
       "75%      3586.0\n",
       "max      3586.0\n",
       "Name: listing_id, dtype: float64"
      ]
     },
     "execution_count": 16,
     "metadata": {},
     "output_type": "execute_result"
    }
   ],
   "source": [
    "# check whether any listings dropped out during the course of the year\n",
    "grouped_ids = calendar2017.groupby('date')['listing_id'].count()\n",
    "\n",
    "grouped_ids.describe()\n"
   ]
  },
  {
   "cell_type": "markdown",
   "metadata": {},
   "source": [
    "Looking at the plot, it seems that mid-May is especially expensive as well as "
   ]
  },
  {
   "cell_type": "code",
   "execution_count": null,
   "metadata": {},
   "outputs": [],
   "source": [
    "\n"
   ]
  },
  {
   "cell_type": "code",
   "execution_count": null,
   "metadata": {},
   "outputs": [],
   "source": []
  }
 ],
 "metadata": {
  "kernelspec": {
   "display_name": "Python 3",
   "language": "python",
   "name": "python3"
  },
  "language_info": {
   "codemirror_mode": {
    "name": "ipython",
    "version": 3
   },
   "file_extension": ".py",
   "mimetype": "text/x-python",
   "name": "python",
   "nbconvert_exporter": "python",
   "pygments_lexer": "ipython3",
   "version": "3.7.1"
  }
 },
 "nbformat": 4,
 "nbformat_minor": 2
}
